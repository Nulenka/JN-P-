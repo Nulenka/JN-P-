{
 "cells": [
  {
   "cell_type": "markdown",
   "id": "0cd72f4a",
   "metadata": {},
   "source": [
    "## Задача 1"
   ]
  },
  {
   "cell_type": "markdown",
   "id": "4ac8ec60",
   "metadata": {},
   "source": [
    "Оформляйте ноутбук, используя эти советы:\n",
    "Номер задачи - заголовок 2.\n",
    "Номер подзадачи - заголовок 3.\n",
    "Предоставленные наборы данных оформляйте, как код."
   ]
  },
  {
   "cell_type": "markdown",
   "id": "c26c2894",
   "metadata": {},
   "source": [
    "## Задача 2"
   ]
  },
  {
   "cell_type": "markdown",
   "id": "50ec49ca",
   "metadata": {},
   "source": [
    "На складе лежат разные фрукты в разном количестве. Нужно написать функцию, которая на вход принимает любое количество названий фруктов и их количество, а возвращает общее количество фруктов на складе, при помощи использования kwargs"
   ]
  },
  {
   "cell_type": "code",
   "execution_count": 4,
   "id": "9ca19018",
   "metadata": {},
   "outputs": [],
   "source": [
    "def fruits_sum(**kwargs):\n",
    "    all_fruits = sum(kwargs.values())\n",
    "    return f'Fruits sum: {all_fruits}'"
   ]
  },
  {
   "cell_type": "code",
   "execution_count": 10,
   "id": "07e36139",
   "metadata": {
    "scrolled": true
   },
   "outputs": [
    {
     "name": "stdout",
     "output_type": "stream",
     "text": [
      "Fruits sum: 10\n"
     ]
    }
   ],
   "source": [
    "print(fruits_sum(green_apples=2, red_apples=1,cherries=2, bananas=4, kiwi=1))"
   ]
  },
  {
   "cell_type": "markdown",
   "id": "f3a6270d",
   "metadata": {},
   "source": [
    "## Задача 3"
   ]
  },
  {
   "cell_type": "markdown",
   "id": "7b914258",
   "metadata": {},
   "source": [
    "Дан список с затратами на рекламу. Но в данных есть ошибки, некоторые затраты имеют отрицательную величину. \n",
    "Удалите такие значения из списка и посчитайте суммарные затраты. [100, 125, -90, 345, 655, -1, 0, 200] Используйте list comprehensions."
   ]
  },
  {
   "cell_type": "code",
   "execution_count": 13,
   "id": "93ade4ca",
   "metadata": {},
   "outputs": [
    {
     "name": "stdout",
     "output_type": "stream",
     "text": [
      "Corrected costs: [100, 125, 345, 655, 0, 200]\n",
      "Total cost: 1425\n"
     ]
    }
   ],
   "source": [
    "old_costs = [100, 125, -90, 345, 655, -1, 0, 200]\n",
    "new_costs = [c for c in old_costs if c >= 0]\n",
    "print(\"Corrected costs:\", new_costs)\n",
    "sum_costs = sum(new_costs)\n",
    "print(\"Total cost:\", sum_costs)"
   ]
  },
  {
   "cell_type": "markdown",
   "id": "47db1801",
   "metadata": {},
   "source": [
    "## Задача 4"
   ]
  },
  {
   "cell_type": "markdown",
   "id": "bbcba0e4",
   "metadata": {},
   "source": [
    "### Условие 4.1:"
   ]
  },
  {
   "cell_type": "markdown",
   "id": "6cff7538",
   "metadata": {},
   "source": [
    "Даны два списка. Дата покупки: ['2021-09-14', '2021-12-15', '2021-09-08', '2021-12-05', '2021-10-09', '2021-09-30', '2021-12-22', '2021-11-29', '2021-12-24', '2021-11-26', '2021-10-27', '2021-12-18', '2021-11-09', '2021-11-23', '2021-09-27', '2021-10-02', '2021-12-27', '2021-09-20', '2021-12-13', '2021-11-01', '2021-11-09', '2021-12-06', '2021-12-08', '2021-10-09', '2021-10-31', '2021-09-30', '2021-11-09', '2021-12-13', '2021-10-26', '2021-12-09']\n",
    "Суммы покупок по датам: [1270, 8413, 9028, 3703, 5739, 4095, 295, 4944, 5723, 3701, 4471, 651, 7037, 4274, 6275, 4988, 6930, 2971, 6592, 2004, 2822, 519, 3406, 2732, 5015, 2008, 316, 6333, 5700, 2887]\n",
    "Найдите, какая выручка у компании в ноябре. Используйте list comprehensions."
   ]
  },
  {
   "cell_type": "code",
   "execution_count": 16,
   "id": "36bbbf83",
   "metadata": {},
   "outputs": [],
   "source": [
    "date = ['2021-09-14', '2021-12-15', '2021-09-08', '2021-12-05', '2021-10-09', \n",
    "        '2021-09-30', '2021-12-22', '2021-11-29', '2021-12-24', '2021-11-26', \n",
    "        '2021-10-27', '2021-12-18', '2021-11-09', '2021-11-23', '2021-09-27', \n",
    "        '2021-10-02', '2021-12-27', '2021-09-20', '2021-12-13', '2021-11-01', \n",
    "        '2021-11-09', '2021-12-06', '2021-12-08', '2021-10-09', '2021-10-31', \n",
    "        '2021-09-30', '2021-11-09', '2021-12-13', '2021-10-26', '2021-12-09']\n",
    "cost = [1270, 8413, 9028, 3703, 5739, 4095, 295, 4944, 5723, 3701, \n",
    "        4471, 651, 7037, 4274, 6275, 4988, 6930, 2971, 6592, 2004, \n",
    "        2822, 519, 3406, 2732, 5015, 2008, 316, 6333, 5700, 2887]"
   ]
  },
  {
   "cell_type": "code",
   "execution_count": 19,
   "id": "f9b34cd2",
   "metadata": {},
   "outputs": [],
   "source": [
    "def november(data1: list, data2: list) -> list:\n",
    "    new_d = []\n",
    "    for i in range(len(data1)-1):\n",
    "        if '-11-' in data1[i]:\n",
    "            new_d.append(data2[i])\n",
    "    return new_d"
   ]
  },
  {
   "cell_type": "code",
   "execution_count": 20,
   "id": "ac93de20",
   "metadata": {},
   "outputs": [
    {
     "name": "stdout",
     "output_type": "stream",
     "text": [
      "Profit: 25098\n"
     ]
    }
   ],
   "source": [
    "print(f'Profit: {sum(november(date, cost))}')"
   ]
  },
  {
   "cell_type": "markdown",
   "id": "b14683bf",
   "metadata": {},
   "source": [
    "### Условие 4.2:"
   ]
  },
  {
   "cell_type": "markdown",
   "id": "7d6506e2",
   "metadata": {},
   "source": [
    "Найдите выручку компании в зависимости от месяца. Для этого напишите функцию, которая на вход принимает список с датами и список с выручкой, а на выходе словарь, где ключи - это месяцы, а значения - это выручка.\n",
    "Используйте аннотирование типов."
   ]
  },
  {
   "cell_type": "code",
   "execution_count": 25,
   "id": "e3456593",
   "metadata": {
    "scrolled": true
   },
   "outputs": [
    {
     "name": "stdout",
     "output_type": "stream",
     "text": [
      "Revenues according to a month: {'09': 25647, '12': 45452, '10': 28645, '11': 25098}\n"
     ]
    }
   ],
   "source": [
    "def revenues(data1: list, data2: list) -> dict:    \n",
    "    revenues = {}    \n",
    "    for i in range(len(data1)):        \n",
    "        if date[i].split('-')[1] in revenues.keys():\n",
    "            revenues[date[i].split('-')[1]] += cost[i]\n",
    "        else:\n",
    "            revenues[date[i].split('-')[1]] = cost[i]\n",
    "    return revenues\n",
    "print(\"Revenues according to a month:\", revenues(date, cost))"
   ]
  },
  {
   "cell_type": "code",
   "execution_count": null,
   "id": "612832e5",
   "metadata": {},
   "outputs": [],
   "source": []
  }
 ],
 "metadata": {
  "kernelspec": {
   "display_name": "Python 3 (ipykernel)",
   "language": "python",
   "name": "python3"
  },
  "language_info": {
   "codemirror_mode": {
    "name": "ipython",
    "version": 3
   },
   "file_extension": ".py",
   "mimetype": "text/x-python",
   "name": "python",
   "nbconvert_exporter": "python",
   "pygments_lexer": "ipython3",
   "version": "3.9.12"
  }
 },
 "nbformat": 4,
 "nbformat_minor": 5
}
